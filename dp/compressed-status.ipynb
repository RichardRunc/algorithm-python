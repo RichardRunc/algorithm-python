{
 "cells": [
  {
   "cell_type": "markdown",
   "metadata": {},
   "source": [
    "# https://leetcode.cn/problems/maximum-students-taking-exam/description/?envType=daily-question&envId=2023-12-26\n",
    "\n",
    "Given a m * n matrix seats  that represent seats distributions in a classroom. If a seat is broken, it is denoted by '#' character otherwise it is denoted by a '.' character.\n",
    "\n",
    "Students can see the answers of those sitting next to the left, right, upper left and upper right, but he cannot see the answers of the student sitting directly in front or behind him. Return the maximum number of students that can take the exam together without any cheating being possible.\n",
    "\n",
    "Students must be placed in seats in good condition.\n"
   ]
  },
  {
   "cell_type": "code",
   "execution_count": 7,
   "metadata": {},
   "outputs": [
    {
     "name": "stdout",
     "output_type": "stream",
     "text": [
      "[0, 1, 0, 0, 1, 0]\n"
     ]
    },
    {
     "data": {
      "text/plain": [
       "0"
      ]
     },
     "execution_count": 7,
     "metadata": {},
     "output_type": "execute_result"
    }
   ],
   "source": [
    "\n",
    "class Solution:\n",
    "    def maxStudents(self, seats: list[list[str]]) -> int:\n",
    "        # use a integet to represent the state of a row\n",
    "        row_state = [sum((ch == '.') << i for i, ch in enumerate(s)) for s in seats]\n",
    "        print(row_state)\n",
    "        # define a function f(state,n) \n",
    "        # the state is the state of the previous row and n is the current row\n",
    "        def f(prev_state, n):\n",
    "            # if n == -1\n",
    "            if n == -1:\n",
    "                return 0\n",
    "            # obtain the state of the current row\n",
    "            current_state = row_state[n]\n",
    "            # calculate value of each bit can't be set to 1\n",
    "            invalid = (prev_state << 1) | (prev_state >> 1)\n",
    "            # calculate the valid state of the current row\n",
    "            valid_state = current_state & ~invalid\n",
    "            # traverse all the valid state\n",
    "            while valid_state:\n",
    "               # find the lowbit of valid_state\n",
    "            return ans\n",
    "        return f(0, len(seats) - 1)\n",
    "                \n",
    "\n",
    "    \n",
    "\n",
    "Solution().maxStudents([\"#\",\".\",\"#\",\"#\",\".\",\"#\"])"
   ]
  },
  {
   "cell_type": "code",
   "execution_count": null,
   "metadata": {},
   "outputs": [],
   "source": []
  }
 ],
 "metadata": {
  "kernelspec": {
   "display_name": "base",
   "language": "python",
   "name": "python3"
  },
  "language_info": {
   "codemirror_mode": {
    "name": "ipython",
    "version": 3
   },
   "file_extension": ".py",
   "mimetype": "text/x-python",
   "name": "python",
   "nbconvert_exporter": "python",
   "pygments_lexer": "ipython3",
   "version": "3.12.1"
  }
 },
 "nbformat": 4,
 "nbformat_minor": 2
}
