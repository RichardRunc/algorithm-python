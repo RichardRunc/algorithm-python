{
 "cells": [
  {
   "cell_type": "markdown",
   "metadata": {},
   "source": [
    "# Fenwick Tree\n",
    "\n",
    "A Fenwick Tree, also known as Binary Indexed Tree (BIT), is a data structure that allows for efficient calculation of prefix sums in an array. It was developed by Peter Fenwick in 1994. The Fenwick Tree is particularly useful when you need to perform cumulative operations on an array, such as finding the sum of elements in a range or updating individual elements.\n",
    "\n",
    "The main advantage of Fenwick Trees over simple prefix sum arrays is that they can perform both updates and queries in O(log n) time complexity, where \"n\" is the size of the array. This is achieved by using a binary tree structure where each node contains the cumulative sum of a specific range of elements in the array.\n",
    "\n",
    "Here's a brief overview of how a Fenwick Tree works:\n",
    "\n",
    "**Initialization**: Create an array BIT of size n+1, initialized with zeros. The size is n+1 to accommodate 1-based indexing.\n",
    "\n",
    "**Building the Tree**: For each element at index i in the original array, update the corresponding nodes in the Fenwick Tree by adding the element's value. The update operation is done in such a way that it covers the range of elements affected by the update.\n",
    "\n",
    "**Query Operation**: To find the cumulative sum up to a given index i in the original array, traverse the Fenwick Tree from i to 1, adding up the values in the tree nodes.\n",
    "\n",
    "**Update Operation**: To update the value of an element at index i in the original array, traverse the Fenwick Tree from i to the last index, updating the corresponding nodes.\n"
   ]
  },
  {
   "cell_type": "code",
   "execution_count": null,
   "metadata": {},
   "outputs": [
    {
     "name": "stdout",
     "output_type": "stream",
     "text": [
      "[83, 6, 48, 78, 51, 72, 61, 60, 45, 39, 83, 11, 83, 62, 42, 61]\n",
      "126\n"
     ]
    }
   ],
   "source": [
    "# lowbit\n",
    "# get the lowest bit of a number\n",
    "def lowbit(n):\n",
    "    return n & -n\n",
    "\n",
    "# generate a random integer's array that the size is 16\n",
    "def generate_random_array():\n",
    "    import random\n",
    "    return [random.randint(0, 100) for _ in range(16)]\n",
    "\n",
    "test_array = generate_random_array()\n",
    "# create a empty array that the size is 16\n",
    "bit_array = [0] * len(test_array)\n",
    "# add x to the ith element of the array \n",
    "\n",
    "def update(k, x):\n",
    "    i = k + 1\n",
    "    while i <= len(test_array):\n",
    "        bit_array[i-1] += x\n",
    "        i += lowbit(i)\n",
    "\n",
    "for idx,x in enumerate(test_array):\n",
    "    update(idx, x)\n",
    "\n",
    "# query the sum of the range [l,r]\n",
    "def range_sum(l,r):\n",
    "    def sum(k):\n",
    "        i = k + 1\n",
    "        s = 0\n",
    "        while i > 0:\n",
    "            s += bit_array[i-1]\n",
    "            i -= lowbit(i)\n",
    "        return s\n",
    "    return sum(r) - sum(l-1)\n",
    "print(range_sum(2,3))"
   ]
  }
 ],
 "metadata": {
  "kernelspec": {
   "display_name": "base",
   "language": "python",
   "name": "python3"
  },
  "language_info": {
   "codemirror_mode": {
    "name": "ipython",
    "version": 3
   },
   "file_extension": ".py",
   "mimetype": "text/x-python",
   "name": "python",
   "nbconvert_exporter": "python",
   "pygments_lexer": "ipython3",
   "version": "3.10.13"
  }
 },
 "nbformat": 4,
 "nbformat_minor": 2
}
