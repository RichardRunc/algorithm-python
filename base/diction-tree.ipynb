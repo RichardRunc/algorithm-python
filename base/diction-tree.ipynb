{
 "cells": [
  {
   "cell_type": "markdown",
   "metadata": {},
   "source": [
    "# Trie\n",
    "A trie is tree-like data structure to quickly find if a word exists in a word list.\n",
    "## Trie Node\n",
    "The Trie Node contains three required elements:\n",
    "1. A boolean variable 'leaf' is used to record whether the character is the end of one of the words in the dictionary.\n",
    "2. A list of node ,'children', records each differect character after this node.\n",
    "\n",
    "## inset a word into trie\n",
    "1. Initialize 'i' as the index of the ith character in the word and set a variable 'p' to point to the root of the trie.\n",
    "2. If the ith character exists in the children of 'p,' update 'p' to the child node with the key 'word[i]'. Otherwise, initialize a new node, insert it into the children with the key 'word[i]', and update 'p' to point to the newly created node.\n",
    "3. Repeat steps 1 and 2 until all characters in the word have been traversed.\n",
    "## initialize a trie with a list of words\n",
    "\n",
    "Traverse the words in a special dictionary and insert each word into the trie.\n",
    "\n",
    "## check whether a special word exists in the trie\n"
   ]
  },
  {
   "cell_type": "code",
   "execution_count": null,
   "metadata": {},
   "outputs": [],
   "source": [
    "class TrieNode():\n",
    "    def __init__(self):\n",
    "        self.leaf = False\n",
    "        self.children = {}\n",
    "\n",
    "class Trie:\n",
    "    def __init__(self, dictionary):\n",
    "        self.root = TrieNode()\n",
    "        for word in dictionary:\n",
    "            self.insert(word)\n",
    "        \n",
    "    def insert(self,word):\n",
    "        p = self.root\n",
    "        for ch in word:\n",
    "            if ch not in p.children:\n",
    "                p.children[ch] = TrieNode()\n",
    "            p = p.children[ch]\n",
    "        p.leaf = True"
   ]
  }
 ],
 "metadata": {
  "kernelspec": {
   "display_name": "patent_legal",
   "language": "python",
   "name": "python3"
  },
  "language_info": {
   "name": "python",
   "version": "3.12.1"
  }
 },
 "nbformat": 4,
 "nbformat_minor": 2
}
