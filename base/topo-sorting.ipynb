{
 "cells": [
  {
   "cell_type": "markdown",
   "metadata": {},
   "source": [
    "# Topological Sorting\n",
    "Topological sorting is a linner ordering of the vertices of a directed acyclic graph(DAG) such as that for every directed edge '(u,v)', vertex 'u' comes before 'v' in the ordering. In other words, it is a way to arrange the vertices of a graph such that there no directed cycles.\n",
    "\n",
    "Topological sorting is primarily ues in scheduling tasks where some tasks must be completed before others can start.It's also used in dependency resolution,build systems,and various other applications where the order of executuon is crucial.\n",
    "\n",
    "Here's a basic algorithm for topological sorting：\n",
    "1. Select a node with no incoming edges(in-degree is 0) and mark it as visited.\n",
    "2. Remove the selected node and its outgoing edges from the graph\n",
    "3. Repeat steps 1 and 2 until all nodes are visited\n"
   ]
  },
  {
   "cell_type": "code",
   "execution_count": null,
   "metadata": {},
   "outputs": [],
   "source": []
  },
  {
   "cell_type": "code",
   "execution_count": 1,
   "metadata": {},
   "outputs": [
    {
     "name": "stdout",
     "output_type": "stream",
     "text": [
      "Topological Sort:\n",
      "[5, 4, 2, 3, 1, 0]\n"
     ]
    }
   ],
   "source": [
    "from collections import defaultdict\n",
    "\n",
    "class Graph:\n",
    "    def __init__(self, vertices):\n",
    "        self.graph = defaultdict(list)\n",
    "        self.V = vertices\n",
    "\n",
    "    def add_edge(self, u, v):\n",
    "        self.graph[u].append(v)\n",
    "\n",
    "    def topological_sort_util(self, v, visited, stack):\n",
    "        visited[v] = True\n",
    "\n",
    "        for i in self.graph[v]:\n",
    "            if not visited[i]:\n",
    "                self.topological_sort_util(i, visited, stack)\n",
    "\n",
    "        stack.append(v)\n",
    "\n",
    "    def topological_sort(self):\n",
    "        visited = [False] * self.V\n",
    "        stack = []\n",
    "\n",
    "        for i in range(self.V):\n",
    "            if not visited[i]:\n",
    "                self.topological_sort_util(i, visited, stack)\n",
    "\n",
    "        return stack[::-1]\n",
    "\n",
    "# Example usage:\n",
    "g = Graph(6)\n",
    "g.add_edge(5, 2)\n",
    "g.add_edge(5, 0)\n",
    "g.add_edge(4, 0)\n",
    "g.add_edge(4, 1)\n",
    "g.add_edge(2, 3)\n",
    "g.add_edge(3, 1)\n",
    "\n",
    "print(\"Topological Sort:\")\n",
    "print(g.topological_sort())\n"
   ]
  }
 ],
 "metadata": {
  "kernelspec": {
   "display_name": "patent_legal",
   "language": "python",
   "name": "python3"
  },
  "language_info": {
   "codemirror_mode": {
    "name": "ipython",
    "version": 3
   },
   "file_extension": ".py",
   "mimetype": "text/x-python",
   "name": "python",
   "nbconvert_exporter": "python",
   "pygments_lexer": "ipython3",
   "version": "3.12.1"
  }
 },
 "nbformat": 4,
 "nbformat_minor": 2
}
