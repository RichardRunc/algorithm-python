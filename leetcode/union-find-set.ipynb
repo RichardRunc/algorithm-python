{
 "cells": [
  {
   "cell_type": "code",
   "execution_count": 1,
   "metadata": {},
   "outputs": [],
   "source": [
    "#https://leetcode.cn/problems/remove-max-number-of-edges-to-keep-graph-fully-traversable/description/\n",
    "\n",
    "# union-find-set templeate\n",
    "class UnionFind:\n",
    "    def __init__(self, n):\n",
    "        self.parent = list(range(n))\n",
    "        self.size = [1] * n\n",
    "        self.count = n \n",
    "        self.rank = [0] * n\n",
    "\n",
    "    def find(self, x):\n",
    "        if self.parent[x] == x:\n",
    "            return x\n",
    "        else:\n",
    "            self.parent[x] = self.find(self.parent[x])\n",
    "            return self.parent[x]\n",
    "\n",
    "    def union(self, x, y):\n",
    "        px, py = self.find(x), self.find(y)\n",
    "        if px == py:\n",
    "            return False\n",
    "        if self.rank[px] > self.rank[py]:\n",
    "            self.parent[py] = px\n",
    "            self.size[px] += self.size[py]\n",
    "        elif self.rank[px] < self.rank[py]:\n",
    "            self.parent[px] = py\n",
    "            self.size[py] += self.size[px]\n",
    "        else:\n",
    "            self.parent[py] = px\n",
    "            self.size[px] += self.size[py]\n",
    "            self.rank[px] += 1\n",
    "        self.count -= 1   \n",
    "        return True   \n",
    "    \n",
    "class Solution:\n",
    "    def maxNumEdgesToRemove(self, n: int, edges: list[list[int]]) -> int:\n",
    "        N = n + 1\n",
    "        ufs = UnionFind(n)\n",
    "        ans = 0\n",
    "        for t,x,y in edges:\n",
    "            if t == 3:\n",
    "                if not ufs.union(x,y):\n",
    "                    ans += 1\n",
    "        ufs1 = copy.deepcopy(ufs)\n",
    "        for t,x,y in edges:\n",
    "            if t == 1:\n",
    "                if not ufs1.union(x,y):\n",
    "                    ans += 1\n",
    "        for t,x,y in edges:\n",
    "            if t == 2:\n",
    "                if not ufs.union(x,y):\n",
    "                    ans += 1\n",
    "        return ans if ufs.count == 1 and ufs1.count == 1 else -1\n",
    "\n",
    "        \n"
   ]
  },
  {
   "cell_type": "code",
   "execution_count": null,
   "metadata": {},
   "outputs": [],
   "source": []
  }
 ],
 "metadata": {
  "kernelspec": {
   "display_name": "patent_legal",
   "language": "python",
   "name": "python3"
  },
  "language_info": {
   "codemirror_mode": {
    "name": "ipython",
    "version": 3
   },
   "file_extension": ".py",
   "mimetype": "text/x-python",
   "name": "python",
   "nbconvert_exporter": "python",
   "pygments_lexer": "ipython3",
   "version": "3.12.1"
  }
 },
 "nbformat": 4,
 "nbformat_minor": 2
}
